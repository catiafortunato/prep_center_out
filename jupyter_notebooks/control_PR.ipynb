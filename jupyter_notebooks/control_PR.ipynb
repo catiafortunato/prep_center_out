{
 "cells": [
  {
   "cell_type": "code",
   "execution_count": 5,
   "metadata": {},
   "outputs": [],
   "source": [
    "import matplotlib.pyplot as plt\n",
    "import numpy as np\n",
    "import glob, os\n",
    "import scipy.io as sio\n",
    "from scipy.signal import savgol_filter\n",
    "import random\n",
    "from scipy import stats\n",
    "from pyaldata import *"
   ]
  },
  {
   "attachments": {},
   "cell_type": "markdown",
   "metadata": {},
   "source": [
    "# Import and process data"
   ]
  },
  {
   "cell_type": "code",
   "execution_count": null,
   "metadata": {},
   "outputs": [],
   "source": [
    "def participation_ratio(data):\n",
    "\n",
    "    \n",
    "\n",
    "    return "
   ]
  },
  {
   "cell_type": "code",
   "execution_count": 37,
   "metadata": {},
   "outputs": [],
   "source": [
    "data_dir = '/home/cf620/Documents/curved_manifold/data/monkey/Chewie/'\n",
    "filename = 'Chewie_CO_CS_2016-10-14.mat'"
   ]
  },
  {
   "cell_type": "code",
   "execution_count": 38,
   "metadata": {},
   "outputs": [
    {
     "name": "stderr",
     "output_type": "stream",
     "text": [
      "/home/cf620/git/PyalData/pyaldata/firing_rates.py:91: UserWarning: Assuming spikes are actually spikes and dividing by bin size.\n",
      "  utils.warnings.warn(\"Assuming spikes are actually spikes and dividing by bin size.\")\n"
     ]
    }
   ],
   "source": [
    "df = mat2dataframe(data_dir+filename, True)\n",
    "td = combine_time_bins(df, 3)\n",
    "td = remove_low_firing_neurons(td, \"M1_spikes\",  5)\n",
    "td = transform_signal(td, \"M1_spikes\",  'sqrt')\n",
    "td = add_firing_rates(td, 'smooth')\n",
    "td = select_trials(td, \"result == 'R'\")\n",
    "move_td = restrict_to_interval(td, \"idx_movement_on\", end_point_name=None, rel_start=-7, rel_end=14)\n",
    "\n"
   ]
  },
  {
   "cell_type": "code",
   "execution_count": 39,
   "metadata": {},
   "outputs": [
    {
     "data": {
      "text/plain": [
       "array([-2.35619449, -1.57079633, -0.78539816,  0.        ,  0.78539816,\n",
       "        1.57079633,  2.35619449,  3.14159265])"
      ]
     },
     "execution_count": 39,
     "metadata": {},
     "output_type": "execute_result"
    }
   ],
   "source": [
    "np.unique(move_td['target_direction'])"
   ]
  },
  {
   "cell_type": "code",
   "execution_count": 40,
   "metadata": {},
   "outputs": [
    {
     "name": "stdout",
     "output_type": "stream",
     "text": [
      "91 trials in direction: -2.356194490192345\n",
      "99 trials in direction: -1.5707963267948966\n",
      "93 trials in direction: -0.7853981633974483\n",
      "90 trials in direction: 0.0\n",
      "90 trials in direction: 0.7853981633974483\n",
      "101 trials in direction: 1.5707963267948966\n",
      "92 trials in direction: 2.356194490192345\n",
      "84 trials in direction: 3.141592653589793\n"
     ]
    }
   ],
   "source": [
    "for target_dir in np.unique(move_td['target_direction']):\n",
    "    print(str(len(move_td[move_td['target_direction']==target_dir]))+ ' trials in direction: ' + str(target_dir))"
   ]
  },
  {
   "cell_type": "code",
   "execution_count": 52,
   "metadata": {},
   "outputs": [
    {
     "name": "stdout",
     "output_type": "stream",
     "text": [
      "3\n",
      "(528, 63)\n",
      "(528, 63)\n",
      "(528, 63)\n",
      "(528, 63)\n",
      "(528, 63)\n",
      "(528, 63)\n",
      "(528, 63)\n",
      "(528, 63)\n",
      "(528, 63)\n",
      "(528, 63)\n",
      "8\n",
      "(1408, 63)\n",
      "(1408, 63)\n",
      "(1408, 63)\n",
      "(1408, 63)\n",
      "(1408, 63)\n",
      "(1408, 63)\n",
      "(1408, 63)\n",
      "(1408, 63)\n",
      "(1408, 63)\n",
      "(1408, 63)\n",
      "13\n",
      "(2288, 63)\n",
      "(2288, 63)\n",
      "(2288, 63)\n",
      "(2288, 63)\n",
      "(2288, 63)\n",
      "(2288, 63)\n",
      "(2288, 63)\n",
      "(2288, 63)\n",
      "(2288, 63)\n",
      "(2288, 63)\n",
      "18\n",
      "(3168, 63)\n",
      "(3168, 63)\n",
      "(3168, 63)\n",
      "(3168, 63)\n",
      "(3168, 63)\n",
      "(3168, 63)\n",
      "(3168, 63)\n",
      "(3168, 63)\n",
      "(3168, 63)\n",
      "(3168, 63)\n",
      "23\n",
      "(4048, 63)\n",
      "(4048, 63)\n",
      "(4048, 63)\n",
      "(4048, 63)\n",
      "(4048, 63)\n",
      "(4048, 63)\n",
      "(4048, 63)\n",
      "(4048, 63)\n",
      "(4048, 63)\n",
      "(4048, 63)\n",
      "28\n",
      "(4928, 63)\n",
      "(4928, 63)\n",
      "(4928, 63)\n",
      "(4928, 63)\n",
      "(4928, 63)\n",
      "(4928, 63)\n",
      "(4928, 63)\n",
      "(4928, 63)\n",
      "(4928, 63)\n",
      "(4928, 63)\n",
      "33\n",
      "(5808, 63)\n",
      "(5808, 63)\n",
      "(5808, 63)\n",
      "(5808, 63)\n",
      "(5808, 63)\n",
      "(5808, 63)\n",
      "(5808, 63)\n",
      "(5808, 63)\n",
      "(5808, 63)\n",
      "(5808, 63)\n",
      "38\n",
      "(6688, 63)\n",
      "(6688, 63)\n",
      "(6688, 63)\n",
      "(6688, 63)\n",
      "(6688, 63)\n",
      "(6688, 63)\n",
      "(6688, 63)\n",
      "(6688, 63)\n",
      "(6688, 63)\n",
      "(6688, 63)\n",
      "43\n",
      "(7568, 63)\n",
      "(7568, 63)\n",
      "(7568, 63)\n",
      "(7568, 63)\n",
      "(7568, 63)\n",
      "(7568, 63)\n",
      "(7568, 63)\n",
      "(7568, 63)\n",
      "(7568, 63)\n",
      "(7568, 63)\n",
      "48\n",
      "(8448, 63)\n",
      "(8448, 63)\n",
      "(8448, 63)\n",
      "(8448, 63)\n",
      "(8448, 63)\n",
      "(8448, 63)\n",
      "(8448, 63)\n",
      "(8448, 63)\n",
      "(8448, 63)\n",
      "(8448, 63)\n",
      "53\n",
      "(9328, 63)\n",
      "(9328, 63)\n",
      "(9328, 63)\n",
      "(9328, 63)\n",
      "(9328, 63)\n",
      "(9328, 63)\n",
      "(9328, 63)\n",
      "(9328, 63)\n",
      "(9328, 63)\n",
      "(9328, 63)\n",
      "58\n",
      "(10208, 63)\n",
      "(10208, 63)\n",
      "(10208, 63)\n",
      "(10208, 63)\n",
      "(10208, 63)\n",
      "(10208, 63)\n",
      "(10208, 63)\n",
      "(10208, 63)\n",
      "(10208, 63)\n",
      "(10208, 63)\n",
      "63\n",
      "(11088, 63)\n",
      "(11088, 63)\n",
      "(11088, 63)\n",
      "(11088, 63)\n",
      "(11088, 63)\n",
      "(11088, 63)\n",
      "(11088, 63)\n",
      "(11088, 63)\n",
      "(11088, 63)\n",
      "(11088, 63)\n",
      "68\n",
      "(11968, 63)\n",
      "(11968, 63)\n",
      "(11968, 63)\n",
      "(11968, 63)\n",
      "(11968, 63)\n",
      "(11968, 63)\n",
      "(11968, 63)\n",
      "(11968, 63)\n",
      "(11968, 63)\n",
      "(11968, 63)\n",
      "73\n",
      "(12848, 63)\n",
      "(12848, 63)\n",
      "(12848, 63)\n",
      "(12848, 63)\n",
      "(12848, 63)\n",
      "(12848, 63)\n",
      "(12848, 63)\n",
      "(12848, 63)\n",
      "(12848, 63)\n",
      "(12848, 63)\n",
      "78\n",
      "(13728, 63)\n",
      "(13728, 63)\n",
      "(13728, 63)\n",
      "(13728, 63)\n",
      "(13728, 63)\n",
      "(13728, 63)\n",
      "(13728, 63)\n",
      "(13728, 63)\n",
      "(13728, 63)\n",
      "(13728, 63)\n"
     ]
    }
   ],
   "source": [
    "PR_over_trials = np.zeros((10, len(range(3,83,5))))\n",
    "\n",
    "\n",
    "for nb_trials in range(3,83,5):\n",
    "    k=0\n",
    "    print(nb_trials)\n",
    "    for rep in range(10):\n",
    "\n",
    "        trial_list = []\n",
    "        for target_dir in np.unique(move_td['target_direction']):\n",
    "            trial_list.append(random.sample(list(move_td.index[move_td['target_direction']==target_dir]), nb_trials))\n",
    "\n",
    "        sel_trial = [item for sublist in trial_list for item in sublist]\n",
    "\n",
    "        move_td_sec = move_td.loc[sel_trial]\n",
    "\n",
    "        data = concat_trials(move_td_sec, 'M1_rates')\n",
    "\n",
    "        pca = \n",
    "\n",
    "        PR_over_trials[rep, k] = \n",
    "\n"
   ]
  },
  {
   "cell_type": "code",
   "execution_count": 23,
   "metadata": {},
   "outputs": [
    {
     "data": {
      "text/plain": [
       "array([  4,  11,  29,  34,  44,  49,  60,  65,  82,  95, 104, 116, 126,\n",
       "       137, 141, 160, 169, 178, 191, 199, 206, 214, 216, 224, 237, 250,\n",
       "       255, 266, 275, 283, 291, 300, 309, 318, 328, 330, 354, 362, 371,\n",
       "       374, 382, 395, 399, 405, 413, 421, 427, 434, 447, 454, 457, 480,\n",
       "       490, 497, 506, 516, 521, 531, 537, 546, 558, 563, 567, 570, 576,\n",
       "       586, 594, 603, 619, 623, 627, 631, 640, 647, 652, 663, 670, 685,\n",
       "       693, 699, 704, 711, 720, 734])"
      ]
     },
     "execution_count": 23,
     "metadata": {},
     "output_type": "execute_result"
    }
   ],
   "source": [
    "np.array(move_td.index[move_td['target_direction']==target_dir])"
   ]
  },
  {
   "cell_type": "code",
   "execution_count": 26,
   "metadata": {},
   "outputs": [
    {
     "data": {
      "text/plain": [
       "[224, 631, 546, 318, 563, 720, 178, 413, 734, 704]"
      ]
     },
     "execution_count": 26,
     "metadata": {},
     "output_type": "execute_result"
    }
   ],
   "source": [
    "random.sample(list(move_td.index[move_td['target_direction']==target_dir]), 10)"
   ]
  },
  {
   "cell_type": "code",
   "execution_count": null,
   "metadata": {},
   "outputs": [],
   "source": []
  }
 ],
 "metadata": {
  "kernelspec": {
   "display_name": "py-curved",
   "language": "python",
   "name": "python3"
  },
  "language_info": {
   "codemirror_mode": {
    "name": "ipython",
    "version": 3
   },
   "file_extension": ".py",
   "mimetype": "text/x-python",
   "name": "python",
   "nbconvert_exporter": "python",
   "pygments_lexer": "ipython3",
   "version": "3.9.7"
  },
  "orig_nbformat": 4
 },
 "nbformat": 4,
 "nbformat_minor": 2
}
