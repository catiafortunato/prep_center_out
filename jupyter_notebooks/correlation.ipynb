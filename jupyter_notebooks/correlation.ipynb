{
 "cells": [
  {
   "cell_type": "code",
   "execution_count": 67,
   "metadata": {},
   "outputs": [],
   "source": [
    "import matplotlib.pyplot as plt\n",
    "import numpy as np\n",
    "import glob, os\n",
    "import scipy.io as sio\n",
    "from scipy.signal import savgol_filter\n",
    "import random\n",
    "from pyaldata import *"
   ]
  },
  {
   "cell_type": "code",
   "execution_count": 68,
   "metadata": {},
   "outputs": [],
   "source": [
    "def process_monkey(data_dir, PMd):\n",
    "    \"\"\"\n",
    "    Return concatenated monkey data after preprocessing\n",
    "    \"\"\"\n",
    "    df = mat2dataframe(data_dir, shift_idx_fields=True)\n",
    "    td = select_trials(df, \"result == 'R'\")\n",
    "    td = select_trials(td, \"epoch == 'BL'\")\n",
    "    td = add_firing_rates(td, 'smooth')\n",
    "    #td = combine_time_bins(td,3)\n",
    "    td = restrict_to_interval(td, \"idx_movement_on\", rel_start=-30, rel_end=40)\n",
    "    if PMd == True:\n",
    "        td = merge_signals(td, signals=['M1_rates', 'PMd_rates'], out_fieldname='both_rates')\n",
    "        M1_data = concat_trials(td, 'both_rates')\n",
    "    else:\n",
    "        M1_data = concat_trials(td, 'M1_rates')\n",
    "\n",
    "    return M1_data\n",
    "\n",
    "def process_model(data_dir):\n",
    "    fname = os.path.join(data_dir, \"pydata.mat\")\n",
    "\n",
    "    df = mat2dataframe(fname, shift_idx_fields=True)\n",
    "\n",
    "    df['bin_size']=0.1\n",
    "\n",
    "    df['idx_trial_start'] = 0\n",
    "\n",
    "   #df = combine_time_bins(df, 2)\n",
    "\n",
    "    #df = restrict_to_interval(df,'idx_go_cue', rel_start=-30, rel_end=40, warn_per_trial=True)\n",
    "\n",
    "    M1_data = concat_trials(df, 'MCx_rates')\n",
    "\n",
    "    return M1_data\n",
    "\n",
    "\n",
    "def corr_coef_sort(M1_data, n_neurons, n_it):\n",
    "    C_sorted_sum = np.zeros((n_neurons, n_neurons))\n",
    "\n",
    "    for i in range(n_it):\n",
    "        C_sorted_sum = np.zeros((n_neurons, n_neurons))\n",
    "\n",
    "        for i in range(n_it):\n",
    "            # select subsample of random neurons\n",
    "            idx = random.sample(range(M1_data.shape[1]), n_neurons)\n",
    "            sample_data = M1_data[:,idx]\n",
    "            # compute pairwise correlation \n",
    "            C = np.corrcoef(sample_data.T)\n",
    "            # for each row in the matrix, sort the neurons (sort the absolute values before or after?)\n",
    "            C_sum = np.zeros(C.shape)\n",
    "            for j in range(sample_data.shape[1]):\n",
    "                i_sort = np.argsort(C[:, j])\n",
    "                \n",
    "                C2 = C[:, i_sort]\n",
    "                C2 = C2[i_sort,:]\n",
    "                \n",
    "                C_sum = C_sum + C2\n",
    "            C_sorted_sum = C_sorted_sum + C_sum/n_neurons\n",
    "\n",
    "        # average across iterations\n",
    "        C_final = C_sorted_sum/n_it\n",
    "\n",
    "        for i in range(n_neurons):\n",
    "            C_final[i,i]=0 \n",
    "\n",
    "    return C_final\n",
    "\n"
   ]
  },
  {
   "attachments": {},
   "cell_type": "markdown",
   "metadata": {},
   "source": [
    "# Import data "
   ]
  },
  {
   "cell_type": "code",
   "execution_count": 69,
   "metadata": {},
   "outputs": [],
   "source": [
    "data_dir_monkey = '/home/cf620/Documents/curved_manifold/data/monkey'\n",
    "data_dir_model = '/home/cf620/git/prep_center_out/simulation/results/'\n",
    "n_neurons = 40\n",
    "n_it = 10\n"
   ]
  },
  {
   "cell_type": "code",
   "execution_count": 70,
   "metadata": {},
   "outputs": [],
   "source": [
    "\n",
    "data_dic = np.load(os.getcwd()+'/monkey_dataset.npy', allow_pickle=True).item()"
   ]
  },
  {
   "cell_type": "code",
   "execution_count": 71,
   "metadata": {},
   "outputs": [],
   "source": [
    "data_dic = {'Chewie': ['Chewie_CO_FF_2016-10-07',\n",
    "  'Chewie_CO_CS_2016-10-21',\n",
    "  'Chewie_CO_CS_2016-10-14',\n",
    "  'Chewie_CO_FF_2016-09-15',\n",
    "  'Chewie_CO_FF_2016-09-19',\n",
    "  'Chewie_CO_FF_2016-09-21',\n",
    "  'Chewie_CO_FF_2016-09-23',\n",
    "  'Chewie_CO_FF_2016-10-05'],\n",
    " 'Chewie2': ['Chewie_CO_CS_2015-11-06',\n",
    "  'Chewie_CO_CS_2015-03-19',\n",
    "  'Chewie_CO_CS_2015-03-13',\n",
    "  'Chewie_CO_CS_2015-03-09',\n",
    "  'Chewie_CO_CS_2015-03-11',\n",
    "  'Chewie_CO_CS_2015-03-12',\n",
    "  'Chewie_CO_FF_2015-07-01',\n",
    "  'Chewie_CO_FF_2015-07-06'],\n",
    " 'Mihili': ['Mihili_CO_VR_2014-03-03',\n",
    "  'Mihili_CO_FF_2014-03-07',\n",
    "  'Mihili_CO_FF_2014-02-18',\n",
    "  'Mihili_CO_FF_2014-02-17',\n",
    "  'Mihili_CO_FF_2014-02-03',\n",
    "  'Mihili_CO_CS_2015-05-12',\n",
    "  'Mihili_CO_CS_2014-09-29',\n",
    "  'Mihili_CO_VR_2014-03-06']}"
   ]
  },
  {
   "cell_type": "code",
   "execution_count": 72,
   "metadata": {},
   "outputs": [
    {
     "data": {
      "text/plain": [
       "dict_keys(['Chewie', 'Chewie2', 'Mihili'])"
      ]
     },
     "execution_count": 72,
     "metadata": {},
     "output_type": "execute_result"
    }
   ],
   "source": [
    "data_dic.keys()"
   ]
  },
  {
   "cell_type": "code",
   "execution_count": 73,
   "metadata": {},
   "outputs": [],
   "source": [
    "C_M = np.zeros((n_neurons,n_neurons,8))\n",
    "C_C = np.zeros((n_neurons,n_neurons,8))\n",
    "C_C2 = np.zeros((n_neurons,n_neurons,8))\n",
    "\n",
    "C_M10 = np.zeros((n_neurons,n_neurons,8))\n",
    "C_M40 = np.zeros((n_neurons,n_neurons,8))\n",
    "C_M70 = np.zeros((n_neurons,n_neurons,8))\n",
    "C_M100 = np.zeros((n_neurons,n_neurons,8))"
   ]
  },
  {
   "cell_type": "markdown",
   "metadata": {},
   "source": []
  },
  {
   "cell_type": "code",
   "execution_count": 74,
   "metadata": {},
   "outputs": [
    {
     "name": "stderr",
     "output_type": "stream",
     "text": [
      "<ipython-input-68-1ab86e1ad990>:10: UserWarning: Dropping the trials with the following IDs because of invalid time indexing. For more information, try warn_per_trial=True\n",
      "\n",
      "        [1157]\n",
      "  td = restrict_to_interval(td, \"idx_movement_on\", rel_start=-30, rel_end=40)\n",
      "<ipython-input-68-1ab86e1ad990>:10: UserWarning: Dropping the trials with the following IDs because of invalid time indexing. For more information, try warn_per_trial=True\n",
      "\n",
      "        [ 64  75  88 106 111 113 138 203 210 219 243]\n",
      "  td = restrict_to_interval(td, \"idx_movement_on\", rel_start=-30, rel_end=40)\n"
     ]
    }
   ],
   "source": [
    "\n",
    "for i in range(8):\n",
    "\n",
    "    file = data_dic['Mihili'][i]\n",
    "    M1_data = process_monkey(data_dir_monkey+'/Mihili/'+file, PMd=True)\n",
    "    C_M[:,:,i]=corr_coef_sort(M1_data, n_neurons, n_it)\n",
    "\n",
    "    file = data_dic['Chewie'][i]\n",
    "    M1_data = process_monkey(data_dir_monkey+'/Chewie/'+file, PMd=True)\n",
    "    C_C[:,:,i]=corr_coef_sort(M1_data, n_neurons, n_it)\n",
    "\n",
    "    file = data_dic['Chewie2'][i]\n",
    "    M1_data = process_monkey(data_dir_monkey+'/Chewie2/'+file, PMd=False)\n",
    "    C_C2[:,:,i]=corr_coef_sort(M1_data, n_neurons, n_it)\n",
    "\n",
    "    M1_data = process_model(data_dir_model+'10002'+str(i+1)+'/1/')\n",
    "    C_M10[:,:,i]=corr_coef_sort(M1_data, n_neurons, n_it)\n",
    "\n",
    "    M1_data = process_model(data_dir_model+'10002'+str(i+1)+'/2/')\n",
    "    C_M40[:,:,i]=corr_coef_sort(M1_data, n_neurons, n_it)\n",
    "\n",
    "    M1_data = process_model(data_dir_model+'10002'+str(i+1)+'/3/')\n",
    "    C_M70[:,:,i]=corr_coef_sort(M1_data, n_neurons, n_it)\n",
    "\n",
    "    M1_data = process_model(data_dir_model+'10002'+str(i+1)+'/4/')\n",
    "    C_M100[:,:,i]=corr_coef_sort(M1_data, n_neurons, n_it)\n",
    "\n",
    "C_M = np.mean(C_M, axis=2)\n",
    "C_C = np.mean(C_C, axis=2)\n",
    "C_C2 = np.mean(C_C2, axis=2)\n",
    "\n",
    "C_M10 = np.mean(C_M10, axis=2)\n",
    "C_M40 = np.mean(C_M40, axis=2)\n",
    "C_M70 = np.mean(C_M70, axis=2)\n",
    "C_M100 = np.mean(C_M100, axis=2)"
   ]
  },
  {
   "cell_type": "code",
   "execution_count": 75,
   "metadata": {},
   "outputs": [],
   "source": [
    "h_M = np.nan_to_num(C_M[np.triu_indices(n_neurons-1)])\n",
    "h_C = np.nan_to_num(C_C[np.triu_indices(n_neurons-1)])\n",
    "h_C2 = C_C2[np.triu_indices(n_neurons-1)]\n",
    "h_M10 = C_M10[np.triu_indices(n_neurons-1)]\n",
    "h_M40 = C_M40[np.triu_indices(n_neurons-1)]\n",
    "h_M70 = C_M70[np.triu_indices(n_neurons-1)]\n",
    "h_M100 = C_M100[np.triu_indices(n_neurons-1)]"
   ]
  },
  {
   "cell_type": "code",
   "execution_count": 76,
   "metadata": {},
   "outputs": [
    {
     "data": {
      "text/plain": [
       "([<matplotlib.axis.XTick at 0x7f17618d42e0>,\n",
       "  <matplotlib.axis.XTick at 0x7f17618d42b0>,\n",
       "  <matplotlib.axis.XTick at 0x7f17618aad90>,\n",
       "  <matplotlib.axis.XTick at 0x7f1758726850>,\n",
       "  <matplotlib.axis.XTick at 0x7f17586fb0a0>,\n",
       "  <matplotlib.axis.XTick at 0x7f17586fb730>,\n",
       "  <matplotlib.axis.XTick at 0x7f17586fbe80>],\n",
       " [Text(0, 0, 'Monkey M'),\n",
       "  Text(1, 0, 'Monkey CR'),\n",
       "  Text(2, 0, 'Monkey CL'),\n",
       "  Text(3, 0, 'Model 10%'),\n",
       "  Text(4, 0, 'Model 40%'),\n",
       "  Text(5, 0, 'Model 70%'),\n",
       "  Text(6, 0, 'Model 100%')])"
      ]
     },
     "execution_count": 76,
     "metadata": {},
     "output_type": "execute_result"
    },
    {
     "data": {
      "image/png": "[encoded data removed]",
      "text/plain": [
       "<Figure size 720x432 with 1 Axes>"
      ]
     },
     "metadata": {
      "needs_background": "light"
     },
     "output_type": "display_data"
    }
   ],
   "source": [
    "%matplotlib inline\n",
    "labels=[\"Monkey M\", \"Monkey CR\",\"Monkey CL\", \"Model 10%\", \"Model 40%\", \"Model 70%\", \"Model 100%\"]\n",
    "\n",
    "fig, ax = plt.subplots(figsize=(10, 6))\n",
    "for i,arr in enumerate([abs(h_M), abs(h_C), abs(h_C2), abs(h_M10), abs(h_M40), abs(h_M70), abs(h_M100)]):\n",
    "    ax.violinplot(dataset=arr,positions=[i],)\n",
    "plt.xticks(range(len(labels)),labels)"
   ]
  },
  {
   "cell_type": "code",
   "execution_count": null,
   "metadata": {},
   "outputs": [],
   "source": []
  },
  {
   "cell_type": "code",
   "execution_count": null,
   "metadata": {},
   "outputs": [],
   "source": []
  },
  {
   "cell_type": "code",
   "execution_count": null,
   "metadata": {},
   "outputs": [],
   "source": []
  }
 ],
 "metadata": {
  "kernelspec": {
   "display_name": "py-curved",
   "language": "python",
   "name": "python3"
  },
  "language_info": {
   "codemirror_mode": {
    "name": "ipython",
    "version": 3
   },
   "file_extension": ".py",
   "mimetype": "text/x-python",
   "name": "python",
   "nbconvert_exporter": "python",
   "pygments_lexer": "ipython3",
   "version": "3.9.7"
  },
  "orig_nbformat": 4,
  "vscode": {
   "interpreter": {
    "hash": "2a4f8fda1662bb12fd8e7a4df01f8e8a942c54d83da3f541a92c95e24ecfe36d"
   }
  }
 },
 "nbformat": 4,
 "nbformat_minor": 2
}
